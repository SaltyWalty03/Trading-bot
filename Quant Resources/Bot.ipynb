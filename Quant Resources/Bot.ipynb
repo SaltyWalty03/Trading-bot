{
 "cells": [
  {
   "cell_type": "code",
   "execution_count": 1,
   "id": "55d97551",
   "metadata": {},
   "outputs": [],
   "source": [
    "from decouple import config\n",
    "from binance.client import Client\n",
    "import os\n",
    "import pandas as pd\n",
    "import pandas_ta as ta\n",
    "import json\n",
    "import sys\n",
    "import time\n",
    "import datetime"
   ]
  },
  {
   "cell_type": "code",
   "execution_count": 2,
   "id": "59a48733",
   "metadata": {},
   "outputs": [],
   "source": [
    "os.environ[\"API_KEY\"] = \"ibX9JkJBUWctFUOzlPOZpSNbMnHr1ior8pquovOIRnRxvPjroRAKJduCdkyiIQJa\"\n",
    "os.environ[\"SECRET_KEY\"] = \"UfQhUq0KdV2smDu2MvdQxxRdu2UL84OhCciIxWZjjr7PdVFiUhjNyBHACrdYxq2Z\""
   ]
  },
  {
   "cell_type": "code",
   "execution_count": 3,
   "id": "62b77dab",
   "metadata": {},
   "outputs": [],
   "source": [
    "client = Client(config(\"API_KEY\"), config(\"SECRET_KEY\"), testnet=True) \n",
    "# to trade live remove testnet=True, and generate API keys for Binance.com\n",
    "    # In US need to set top level domain to tld='us' inside client\n",
    "asset = \"BTCUSDT\"\n",
    "entry = 25\n",
    "exit = 75\n",
    "\n",
    "# balance = client.get_asset_balance(asset='BTC')\n",
    "# print(balance)"
   ]
  },
  {
   "cell_type": "code",
   "execution_count": 4,
   "id": "023cb16f",
   "metadata": {
    "scrolled": true
   },
   "outputs": [],
   "source": [
    "def fetch_klines(asset):\n",
    "    # fetch 1 minute klines for the last day up until now\n",
    "    klines = client.get_historical_klines(asset, \n",
    "        Client.KLINE_INTERVAL_1MINUTE, \"1 hour ago UTC\")\n",
    "    klines = [ [x[0],float(x[4])] for x in klines ]\n",
    "    klines = pd.DataFrame(klines, columns = [\"time\",\"price\"])\n",
    "    klines[\"time\"] = pd.to_datetime(klines[\"time\"], unit = \"ms\")\n",
    "    return klines"
   ]
  },
  {
   "cell_type": "code",
   "execution_count": 5,
   "id": "566672e9",
   "metadata": {},
   "outputs": [],
   "source": [
    "def get_rsi(asset):\n",
    "    klines = fetch_klines(asset)\n",
    "    klines[\"rsi\"]=ta.rsi(close=klines[\"price\"], length = 14)\n",
    "\n",
    "    return klines[\"rsi\"].iloc[-1]"
   ]
  },
  {
   "cell_type": "code",
   "execution_count": 6,
   "id": "eb246954",
   "metadata": {},
   "outputs": [],
   "source": [
    "def log(msg):\n",
    "    print(f\"LOG: {msg}\")\n",
    "    if not os.path.isdir(\"logs\"):\n",
    "        os.mkdir(\"logs\")\n",
    "\n",
    "    now = datetime.datetime.now()\n",
    "    today = now.strftime(\"%Y-%m-%d\")\n",
    "    time = now.strftime(\"%H:%M:%S\")\n",
    "    with open(f\"logs/{today}.txt\", \"a+\") as log_file:\n",
    "        log_file.write(f\"{time} : {msg}\\n\")"
   ]
  },
  {
   "cell_type": "code",
   "execution_count": 7,
   "id": "1dc51498",
   "metadata": {},
   "outputs": [],
   "source": [
    "def trade_log(sym, side, price, amount):\n",
    "    log(f\"{side} {amount} {sym} for {price} per\")\n",
    "    if not os.path.isdir(\"trades\"):\n",
    "        os.mkdir(\"trades\")\n",
    "\n",
    "    now = datetime.datetime.now()\n",
    "    today = now.strftime(\"%Y-%m-%d\")\n",
    "    time = now.strftime(\"%H:%M:%S\")\n",
    "\n",
    "\n",
    "    if not os.path.isfile(f\"trades/{today}.csv\"):\n",
    "        with open(f\"trades/{today}.csv\", \"w\") as trade_file:\n",
    "            trade_file.write(\"sym,side,amount,price\\n\")\n",
    "\n",
    "    with open(f\"trades/{today}.csv\", \"a+\") as trade_file:\n",
    "        trade_file.write(f\"{sym},{side},{amount},{price}\\n\")"
   ]
  },
  {
   "cell_type": "code",
   "execution_count": 8,
   "id": "ae98280e",
   "metadata": {},
   "outputs": [],
   "source": [
    "def create_account():\n",
    "\n",
    "    account = {\n",
    "            \"is_buying\":True,\n",
    "            \"assets\":{},\n",
    "            }\n",
    "\n",
    "    with open(\"bot_account.json\", \"w\") as f:\n",
    "        f.write(json.dumps(account))\n",
    "\n",
    "def is_buying():\n",
    "    if os.path.isfile(\"bot_account.json\"):\n",
    "\n",
    "        with open(\"bot_account.json\") as f:\n",
    "            account = json.load(f)\n",
    "            if \"is_buying\" in account:\n",
    "                return account[\"is_buying\"]\n",
    "            else:\n",
    "                return True\n",
    "\n",
    "    else:\n",
    "        create_account()\n",
    "        return True"
   ]
  },
  {
   "cell_type": "code",
   "execution_count": 9,
   "id": "7b394d35",
   "metadata": {},
   "outputs": [],
   "source": [
    "def do_trade(account,client, asset, side, quantity):\n",
    "\n",
    "    if side == \"buy\":\n",
    "        order = client.order_market_buy(\n",
    "            symbol=asset,\n",
    "            quantity=quantity)\n",
    "\n",
    "        account[\"is_buying\"] = False\n",
    "\n",
    "    else:\n",
    "        order = client.order_market_sell(\n",
    "            symbol=asset,\n",
    "            quantity=quantity)\n",
    "\n",
    "        account[\"is_buying\"] = True\n",
    "\n",
    "    order_id = order[\"orderId\"]\n",
    "\n",
    "    while order[\"status\"] != \"FILLED\":\n",
    "\n",
    "        order = client.get_order(\n",
    "            symbol=asset,\n",
    "            orderId=order_id)\n",
    "\n",
    "        time.sleep(1)\n",
    "\n",
    "    price_paid = sum([ float(fill[\"price\"]) * float(fill[\"qty\"]) \\\n",
    "            for fill in order[\"fills\"]])\n",
    "\n",
    "    trade_log(asset, side, price_paid, quantity)\n",
    "\n",
    "    with open(\"bot_account.json\",\"w\") as f:\n",
    "        f.write(json.dumps(account))\n",
    "    "
   ]
  },
  {
   "cell_type": "code",
   "execution_count": 11,
   "id": "bd4c5c42",
   "metadata": {},
   "outputs": [
    {
     "name": "stdout",
     "output_type": "stream",
     "text": [
      "50.66354592859128\n",
      "49.79210270195442\n",
      "49.80370253033422\n",
      "49.61983093720388\n",
      "49.581838911179155\n",
      "49.581838911179155\n",
      "46.86764455832796\n",
      "46.86764455832796\n",
      "48.358692163563354\n",
      "48.36246116788112\n",
      "48.36246116788112\n",
      "46.988837372461155\n",
      "46.324083155568886\n",
      "46.21913252300648\n",
      "45.161397144732774\n",
      "43.22710358008137\n",
      "43.52550296686464\n",
      "45.27171212337253\n"
     ]
    },
    {
     "ename": "KeyboardInterrupt",
     "evalue": "",
     "output_type": "error",
     "traceback": [
      "\u001b[1;31m---------------------------------------------------------------------------\u001b[0m",
      "\u001b[1;31mKeyboardInterrupt\u001b[0m                         Traceback (most recent call last)",
      "Cell \u001b[1;32mIn[11], line 29\u001b[0m\n\u001b[0;32m     26\u001b[0m             do_trade(account, client, asset, \u001b[38;5;124m\"\u001b[39m\u001b[38;5;124msell\u001b[39m\u001b[38;5;124m\"\u001b[39m, \u001b[38;5;241m0.01\u001b[39m)\n\u001b[0;32m     28\u001b[0m     \u001b[38;5;28mprint\u001b[39m(rsi)\n\u001b[1;32m---> 29\u001b[0m     \u001b[43mtime\u001b[49m\u001b[38;5;241;43m.\u001b[39;49m\u001b[43msleep\u001b[49m\u001b[43m(\u001b[49m\u001b[38;5;241;43m10\u001b[39;49m\u001b[43m)\u001b[49m\n\u001b[0;32m     31\u001b[0m \u001b[38;5;28;01mexcept\u001b[39;00m \u001b[38;5;167;01mException\u001b[39;00m \u001b[38;5;28;01mas\u001b[39;00m e:\n\u001b[0;32m     32\u001b[0m     log(\u001b[38;5;124m\"\u001b[39m\u001b[38;5;124mERROR: \u001b[39m\u001b[38;5;124m\"\u001b[39m \u001b[38;5;241m+\u001b[39m \u001b[38;5;28mstr\u001b[39m(e))\n",
      "\u001b[1;31mKeyboardInterrupt\u001b[0m: "
     ]
    }
   ],
   "source": [
    "rsi = get_rsi(asset)\n",
    "old_rsi = rsi\n",
    "asset = \"BTCUSDT\"\n",
    "\n",
    "while True:\n",
    "\n",
    "    try:\n",
    "        if not os.path.exists(\"bot_account.json\"):\n",
    "            create_account()\n",
    "\n",
    "        with open(\"bot_account.json\") as f:\n",
    "            account = json.load(f)\n",
    "\n",
    "\n",
    "        old_rsi = rsi\n",
    "        rsi = get_rsi(asset)\n",
    "\n",
    "        if account[\"is_buying\"]:\n",
    "\n",
    "            if rsi < entry and old_rsi > entry:\n",
    "                do_trade(account, client, asset, \"buy\", 0.01)\n",
    "\n",
    "        else:\n",
    "\n",
    "            if rsi > exit and old_rsi < exit:\n",
    "                do_trade(account, client, asset, \"sell\", 0.01)\n",
    "        \n",
    "        print(rsi)\n",
    "        time.sleep(10)\n",
    "\n",
    "    except Exception as e:\n",
    "        log(\"ERROR: \" + str(e))\n",
    "        "
   ]
  },
  {
   "cell_type": "code",
   "execution_count": null,
   "id": "71133172",
   "metadata": {},
   "outputs": [],
   "source": []
  }
 ],
 "metadata": {
  "kernelspec": {
   "display_name": "Python 3 (ipykernel)",
   "language": "python",
   "name": "python3"
  },
  "language_info": {
   "codemirror_mode": {
    "name": "ipython",
    "version": 3
   },
   "file_extension": ".py",
   "mimetype": "text/x-python",
   "name": "python",
   "nbconvert_exporter": "python",
   "pygments_lexer": "ipython3",
   "version": "3.10.9"
  }
 },
 "nbformat": 4,
 "nbformat_minor": 5
}
